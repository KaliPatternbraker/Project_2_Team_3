{
 "cells": [
  {
   "cell_type": "code",
   "execution_count": 3,
   "id": "af85e564-50bb-4c0b-ae55-7e0d6349c9bb",
   "metadata": {},
   "outputs": [],
   "source": [
    "import os\n",
    "import requests\n",
    "import json\n",
    "import pandas as pd\n",
    "from dotenv import load_dotenv\n",
    "import alpaca_trade_api as tradeapi\n",
    "\n",
    "\n",
    "import numpy as np\n",
    "%matplotlib inline\n",
    "import hvplot.pandas\n",
    "from decouple import config\n",
    "from pathlib import Path\n",
    "import hvplot.pandas\n",
    "import matplotlib.pyplot as plt\n",
    "from sklearn import svm\n",
    "from sklearn.preprocessing import StandardScaler\n",
    "from pandas.tseries.offsets import DateOffset\n",
    "from sklearn.metrics import classification_report\n",
    "from finta import TA\n",
    "\n",
    "import pandas_datareader.data as web\n",
    "import pandas as pd\n",
    "import datetime as dt\n",
    "import numpy as np\n",
    "import matplotlib.pyplot as plt\n",
    "from matplotlib import style\n",
    "#from MCForecastTools import mc_simulation\n",
    "\n",
    "style.use('ggplot')\n",
    "\n",
    "from mc_simulation import AverageModel as am\n",
    "from mc_simulation import VolatilityModel as vm\n",
    "from mc_simulation import MonteCarloSimulation as mcs\n",
    "\n",
    "#API_USERNAME = config('USER')\n",
    "#API_KEY = config('KEY')"
   ]
  },
  {
   "cell_type": "code",
   "execution_count": 4,
   "id": "4aef45e4-e87b-4b08-a9eb-d428e78d451b",
   "metadata": {},
   "outputs": [
    {
     "data": {
      "text/plain": [
       "True"
      ]
     },
     "execution_count": 4,
     "metadata": {},
     "output_type": "execute_result"
    }
   ],
   "source": [
    "load_dotenv()\n"
   ]
  },
  {
   "cell_type": "code",
   "execution_count": 5,
   "id": "6d43218c-f0ee-4ada-be1d-ca19bccd9792",
   "metadata": {},
   "outputs": [
    {
     "ename": "TypeError",
     "evalue": "read_csv() got an unexpected keyword argument 'infer_dateframe_format'",
     "output_type": "error",
     "traceback": [
      "\u001b[0;31m---------------------------------------------------------------------------\u001b[0m",
      "\u001b[0;31mTypeError\u001b[0m                                 Traceback (most recent call last)",
      "\u001b[0;32m/var/folders/v9/wdgj05js759cgn2h8f5btc240000gn/T/ipykernel_35861/112228359.py\u001b[0m in \u001b[0;36m<module>\u001b[0;34m\u001b[0m\n\u001b[1;32m      1\u001b[0m \u001b[0;31m#Read the file in dataframe\u001b[0m\u001b[0;34m\u001b[0m\u001b[0;34m\u001b[0m\u001b[0;34m\u001b[0m\u001b[0m\n\u001b[1;32m      2\u001b[0m \u001b[0mfile_path\u001b[0m \u001b[0;34m=\u001b[0m \u001b[0;34m'./Resources/AAPL_df.csv'\u001b[0m\u001b[0;34m\u001b[0m\u001b[0;34m\u001b[0m\u001b[0m\n\u001b[0;32m----> 3\u001b[0;31m \u001b[0mAAPL_df\u001b[0m \u001b[0;34m=\u001b[0m \u001b[0mpd\u001b[0m\u001b[0;34m.\u001b[0m\u001b[0mread_csv\u001b[0m\u001b[0;34m(\u001b[0m\u001b[0mPath\u001b[0m\u001b[0;34m(\u001b[0m\u001b[0mfile_path\u001b[0m\u001b[0;34m)\u001b[0m\u001b[0;34m,\u001b[0m\u001b[0mindex_col\u001b[0m\u001b[0;34m=\u001b[0m\u001b[0;34m'Date'\u001b[0m\u001b[0;34m,\u001b[0m\u001b[0mparse_dates\u001b[0m\u001b[0;34m=\u001b[0m\u001b[0;32mTrue\u001b[0m\u001b[0;34m,\u001b[0m\u001b[0minfer_dateframe_format\u001b[0m\u001b[0;34m=\u001b[0m\u001b[0;32mTrue\u001b[0m\u001b[0;34m)\u001b[0m\u001b[0;34m\u001b[0m\u001b[0;34m\u001b[0m\u001b[0m\n\u001b[0m\u001b[1;32m      4\u001b[0m \u001b[0;34m\u001b[0m\u001b[0m\n\u001b[1;32m      5\u001b[0m \u001b[0mAAPL_df\u001b[0m\u001b[0;34m[\u001b[0m\u001b[0;34m'actual returns'\u001b[0m\u001b[0;34m]\u001b[0m \u001b[0;34m=\u001b[0m \u001b[0mAAPL_df\u001b[0m\u001b[0;34m[\u001b[0m\u001b[0;34m'close'\u001b[0m\u001b[0;34m]\u001b[0m\u001b[0;34m.\u001b[0m\u001b[0mpct_change\u001b[0m\u001b[0;34m(\u001b[0m\u001b[0;34m)\u001b[0m\u001b[0;34m\u001b[0m\u001b[0;34m\u001b[0m\u001b[0m\n",
      "\u001b[0;31mTypeError\u001b[0m: read_csv() got an unexpected keyword argument 'infer_dateframe_format'"
     ]
    }
   ],
   "source": [
    "\n",
    "#Read the file in dataframe \n",
    "file_path = './Resources/AAPL_df.csv'\n",
    "AAPL_df = pd.read_csv(Path(file_path),index_col='Date',parse_dates=True,infer_dateframe_format=True)\n",
    "\n",
    "AAPL_df['actual returns'] = AAPL_df['close'].pct_change()\n",
    "AAPL_df = AAPL_df.dropna()\n",
    "\n",
    "AAPL_df.head()\n",
    "\n"
   ]
  },
  {
   "cell_type": "code",
   "execution_count": null,
   "id": "51b48baa-d079-40c0-98c6-29d70fd53192",
   "metadata": {},
   "outputs": [],
   "source": [
    "# Make X and Y Data Sets\n",
    "\n",
    "#Read the file in dataframe \n",
    "file_path = './Resources/AAPL_df.csv'\n",
    "AAPL_df = pd.read_csv(Path(file_path),index_col='Date',parse_dates=True,infer_dateframe_format=True)\n",
    "\n",
    "AAPL_df['actual returns'] = AAPL_df['close'].pct_change()\n",
    "AAPL_df = AAPL_df.dropna()\n",
    "\n",
    "AAPL_df.head()\n"
   ]
  },
  {
   "cell_type": "code",
   "execution_count": null,
   "id": "b640f281-0c81-4b0d-b864-8f65af95495b",
   "metadata": {},
   "outputs": [],
   "source": [
    "sma_fast = 4\n",
    "sma_slow = 100\n",
    "ema = 50\n",
    "volatility_window = 4\n",
    "\n",
    "AAPL_df['sma_fast'] = TA.SMA(AAPL_df, sma_fast)\n",
    "AAPL_df['sma_fast'] = TA.SMA(AAPL_df, sma_slow)\n",
    "AAPL_df['ssma'] = TA.SSMA(AAPL_df)\n",
    "AAPL_df['ema'] = TA.EMA(AAPL_df, ema)\n",
    "AAPL_df['dema'] = TA.DEMA(AAPL_df)\n",
    "AAPL_df['tema'] = TA.TEMA(AAPL_df)\n",
    "AAPL_df['trima'] = TA.TRIMA(AAPL_df)\n",
    "AAPL_df['volatility'] = AAPL_df['actual_returns'].rolling(window=volatility_window).std()\n",
    "\n",
    "AAPL_df.dropna(inplace=True)\n",
    "AAPL_df"
   ]
  },
  {
   "cell_type": "code",
   "execution_count": null,
   "id": "9e292cb1-f352-4c85-8186-ff875cd307d7",
   "metadata": {},
   "outputs": [],
   "source": [
    "#Make X Data Set\n",
    "\n",
    "X = AAPL_df[['sma_fast', 'sma_slow', 'ssma', 'ema', 'dema', 'tema', 'volatility']].shift().dropna().copy\n",
    "X\n"
   ]
  },
  {
   "cell_type": "code",
   "execution_count": null,
   "id": "10b09ac8-9d55-43ea-b37a-9ce167280760",
   "metadata": {},
   "outputs": [],
   "source": [
    "#Make Y Data Set\n",
    "\n",
    "#Make the Buy/Sell signal and populate them with two opposing integers: +1 or -1\n",
    "AAPL_df['signal'] = 0.0\n",
    "\n",
    "#Make buy and sell signal\n",
    "AAPL_df['signal'] = np.where(AAPL_df['actual_returns'] >=0, 1. -1)\n",
    "\n",
    "y = AAPL_df['signal']"
   ]
  },
  {
   "cell_type": "code",
   "execution_count": null,
   "id": "5fad03b8-36c8-46e7-9fa6-aae5297b73a2",
   "metadata": {},
   "outputs": [],
   "source": [
    "#Make Train and Test Data: X_train, y_train, X_test, y_test\n",
    "#offset_years as a parameter\n",
    "\n",
    "offset_years = 8\n",
    "training_begin = X.index.min()\n",
    "training_end = training_begin + DateOffset(years=offset_years)\n",
    "\n",
    "X_train = X.loc[training_begin:training_end]\n",
    "y_train = y.loc[training_begin:training_end]\n",
    "\n",
    "test_begin = X.loc[training_end : ].index.min()\n",
    "X_test = X.loc[test_begin : ]\n",
    "y_test = y.loc[test_begin : ]\n"
   ]
  },
  {
   "cell_type": "code",
   "execution_count": null,
   "id": "26c7dd2b-3a0d-4866-a712-1a8becb38747",
   "metadata": {},
   "outputs": [],
   "source": [
    "#Standardizing Our Data Set\n",
    "\n",
    "#Scaling the features Dataframes\n",
    "\n",
    "#Make a StandardScaler instance\n",
    "scaler = StandardScaler()\n",
    "\n",
    "#Apply the scaler model to fit the X_train data set\n",
    "X_scaler = scaler.fit(X_train)\n",
    "\n",
    "#Transform the X_train and X_test Dataframes using the X_scaler\n",
    "X_train_scaled = X_scaler.transform(X_train)\n",
    "X_test_scaled = X_scaler.transform(X_test)\n"
   ]
  },
  {
   "cell_type": "code",
   "execution_count": null,
   "id": "78a44c33-76dc-46a9-9f1f-14a134264338",
   "metadata": {},
   "outputs": [],
   "source": [
    "#Make a Model\n",
    "#Fit the Model with X_train_scaled, y_train data\n",
    "#Make comparision report\n",
    "\n",
    "\n",
    "from sklearn.linear_model import LinearRegression, LogisticRegression\n",
    "from sklearn.tree import DecisionTreeClassifier\n",
    "from sklearn.svm import SVC \n",
    "from sklearn.naive_bayes import GaussianNB\n",
    "from sklearn.ensemble import RandomForestClassifier\n",
    "\n",
    "#Make models\n",
    "\n",
    "#Logistic Regression model\n",
    "LR_model = LogisticRegression(random_state=1)\n",
    "LR_model.fit(X_train_scaled,y_train)\n",
    "y_predict_test_LR = LR_model.predict(X_test_scaled)\n",
    "print('Logistic Regression model')\n",
    "print(classification_report(y_test,y_predict_test_LR)\n",
    "\n",
    "#DecisionTreeClassifier model\n",
    "DTC_model = DecisionTreeClassifier(random_state=1)\n",
    "DTC_model.fit(X_train_scaled, y_train)\n",
    "y_predict_test_DTC = DTC_model.predict(X_test_scaled) \n",
    "print('Decision Tree Classifier')\n",
    "print(classification_report(y_test, y_predict_test_DTC))\n",
    "\n",
    "# SVM model\n",
    "SVM_model = SVC(random_state=1)\n",
    "SVM_model.fit(X_train_scaled,y_train)\n",
    "y_predict_test_SVM = SVM_model.predict(X_test_scaled)\n",
    "print('SVM Classifier')\n",
    "print(classification_report(y_test,y_predict_test_test_SVM)\n",
    "      \n",
    "# GaussianNB model\n",
    "GaussianNB_model = GaussianNB()\n",
    "GaussianNB_model.fit(X_train_scaled,y_train)\n",
    "y_predict_test_GaussianNB = GaussianNB_model.predict(X_test_scaled)\n",
    "print('GaussianNB Classifier')\n",
    "print(classification_report(y_test,y_predit_test_GaussianNB)\n",
    "      \n",
    "#Random Forest Classifier model\n",
    "RandomForestClassifier_model = RandomForestClassifier()\n",
    "RandomForestClassifier_model_model.fit(X_train_scaled,y_train)\n",
    "y_predict_test_GRandomForestClassifier = RandomForestClassifier_model.predict(X_test_scaled)\n",
    "print('RandomForestClassifier_model')\n",
    "print(classification_report(y_test,y_predit_test_RandomForestClassifier)\n",
    "      \n",
    "\n"
   ]
  },
  {
   "cell_type": "code",
   "execution_count": null,
   "id": "611af7ca-d899-4cd9-a381-27098d2ff7c9",
   "metadata": {},
   "outputs": [],
   "source": []
  }
 ],
 "metadata": {
  "kernelspec": {
   "display_name": "Python 3 (ipykernel)",
   "language": "python",
   "name": "python3"
  },
  "language_info": {
   "codemirror_mode": {
    "name": "ipython",
    "version": 3
   },
   "file_extension": ".py",
   "mimetype": "text/x-python",
   "name": "python",
   "nbconvert_exporter": "python",
   "pygments_lexer": "ipython3",
   "version": "3.7.11"
  }
 },
 "nbformat": 4,
 "nbformat_minor": 5
}
