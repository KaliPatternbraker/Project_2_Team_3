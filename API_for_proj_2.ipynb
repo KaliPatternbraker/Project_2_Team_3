{
 "cells": [
  {
   "cell_type": "code",
   "execution_count": 1,
   "id": "c450d257-204b-4de4-8534-8fb9ad9bced3",
   "metadata": {},
   "outputs": [],
   "source": [
    "import os\n",
    "import requests\n",
    "import json\n",
    "import pandas as pd\n",
    "from dotenv import load_dotenv\n",
    "import alpaca_trade_api as tradeapi\n",
    "from MCForecastTools import MCSimulation\n",
    "\n",
    "%matplotlib inline"
   ]
  },
  {
   "cell_type": "code",
   "execution_count": 2,
   "id": "9dc600ea-3eb7-4c8b-911e-4d73bf065eb5",
   "metadata": {},
   "outputs": [
    {
     "data": {
      "text/plain": [
       "True"
      ]
     },
     "execution_count": 2,
     "metadata": {},
     "output_type": "execute_result"
    }
   ],
   "source": [
    "load_dotenv()"
   ]
  },
  {
   "cell_type": "code",
   "execution_count": 3,
   "id": "e2084da8-c7e3-49aa-9090-dec295138e69",
   "metadata": {},
   "outputs": [
    {
     "name": "stdout",
     "output_type": "stream",
     "text": [
      "alpaca_api_key    <class 'str'>\n",
      "alpaca_secret_key <class 'str'>\n"
     ]
    }
   ],
   "source": [
    "alpaca_api_key = os.getenv(\"ALPACA_API_KEY_ID\")\n",
    "print(\"alpaca_api_key   \",type(alpaca_api_key))\n",
    "# YOUR CODE HERE\n",
    "alpaca_secret_key=os.getenv(\"SECRET_KEY\")\n",
    "print(\"alpaca_secret_key\",type(alpaca_secret_key))\n",
    "\n",
    "# Create the Alpaca tradeapi.REST object\n",
    "# YOUR CODE HERE\n",
    "alpaca = tradeapi.REST(\n",
    "    alpaca_api_key,\n",
    "    alpaca_secret_key,\n",
    "    api_version=\"v2\")"
   ]
  },
  {
   "cell_type": "code",
   "execution_count": 5,
   "id": "0e1eaf55-697d-45a0-b772-b9dded00d262",
   "metadata": {},
   "outputs": [
    {
     "name": "stdout",
     "output_type": "stream",
     "text": [
      "                             open    high       low     close    volume  \\\n",
      "timestamp                                                                 \n",
      "2022-03-03 09:00:00+00:00  166.35  166.46  165.9200  166.4100     12362   \n",
      "2022-03-03 10:00:00+00:00  166.41  166.41  166.0200  166.2800      7635   \n",
      "2022-03-03 11:00:00+00:00  166.30  166.79  165.9300  166.1600     15956   \n",
      "2022-03-03 12:00:00+00:00  166.23  166.78  166.2100  166.5300     75862   \n",
      "2022-03-03 13:00:00+00:00  166.60  167.96  166.1440  167.8600    600892   \n",
      "...                           ...     ...       ...       ...       ...   \n",
      "2022-04-07 19:00:00+00:00  172.65  173.36  171.8800  172.2475  13615883   \n",
      "2022-04-07 20:00:00+00:00  172.20  172.38  171.6992  171.9600   9246444   \n",
      "2022-04-07 21:00:00+00:00  171.92  172.10  171.8500  172.0500     21595   \n",
      "2022-04-07 22:00:00+00:00  172.03  172.05  171.8100  171.9000     28895   \n",
      "2022-04-07 23:00:00+00:00  171.89  172.28  171.8500  172.2500     57775   \n",
      "\n",
      "                           trade_count        vwap  \n",
      "timestamp                                           \n",
      "2022-03-03 09:00:00+00:00          493  166.267821  \n",
      "2022-03-03 10:00:00+00:00          264  166.183384  \n",
      "2022-03-03 11:00:00+00:00          501  166.204814  \n",
      "2022-03-03 12:00:00+00:00         2119  166.575926  \n",
      "2022-03-03 13:00:00+00:00         5958  167.290063  \n",
      "...                                ...         ...  \n",
      "2022-04-07 19:00:00+00:00       126120  172.677775  \n",
      "2022-04-07 20:00:00+00:00         1908  172.138258  \n",
      "2022-04-07 21:00:00+00:00          730  171.880662  \n",
      "2022-04-07 22:00:00+00:00          351  171.974581  \n",
      "2022-04-07 23:00:00+00:00          505  172.104992  \n",
      "\n",
      "[416 rows x 7 columns]\n"
     ]
    }
   ],
   "source": [
    "from alpaca_trade_api.rest import REST, TimeFrame\n",
    "AAPL_df=alpaca.get_bars(\"AAPL\", TimeFrame.Hour, \"2022-03-03\", \"2022-04-07\", adjustment='raw').df\n",
    "#df_portfolio.dropna()\n",
    "AAPL_df.tail(5)\n",
    "print(AAPL_df)"
   ]
  },
  {
   "cell_type": "code",
   "execution_count": null,
   "id": "cfe194a4-0866-40cd-ba8a-f080325ed872",
   "metadata": {},
   "outputs": [],
   "source": []
  }
 ],
 "metadata": {
  "kernelspec": {
   "display_name": "Python 3 (ipykernel)",
   "language": "python",
   "name": "python3"
  },
  "language_info": {
   "codemirror_mode": {
    "name": "ipython",
    "version": 3
   },
   "file_extension": ".py",
   "mimetype": "text/x-python",
   "name": "python",
   "nbconvert_exporter": "python",
   "pygments_lexer": "ipython3",
   "version": "3.9.7"
  }
 },
 "nbformat": 4,
 "nbformat_minor": 5
}
